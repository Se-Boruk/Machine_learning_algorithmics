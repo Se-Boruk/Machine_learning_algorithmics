{
 "cells": [
  {
   "cell_type": "markdown",
   "id": "9ed56307",
   "metadata": {},
   "source": [
    "# Algorytmika i matematyka uczenia maszynowego \n",
    "## Laboratorium 2\n",
    "\n",
    "Do wykonania zadań proszę zapoznać się z metodami, właściwościami, oraz funkcjami:\n",
    "`__repr__`, `__str__`, `__add__`, `__sub__`, `__eq__`, `__lt__`, `__gt__`, `__le__`, `__ge__`, `__ne__`, `__hash__`, `__truediv__`, `__mul__`, `__class__`, `__name__`, `id`.\n",
    "\n",
    "Operatory: https://docs.python.org/3/library/operator.html\n",
    "\n",
    "\n",
    "**UWAGA**: W niniejszym laboratorium proszę nie korzystać z zewnętrzych modułów/bibliotek (poza biblioteką _matplotlib_).\n",
    "\n",
    "**UWAGA 2**: Obsługę błędów należy zrealizować w postaci wyjątków.\n",
    "\n",
    "### Zadanie 1\n",
    "\n",
    "Napisz klasę `Vector` udostępniającą funkcjonalność:\n",
    "- reprezentuje wektor dowolnej długości,\n",
    "- obiekt inicjowany listą (np. `Vector([1, 2, 3])`,\n",
    "- posiada funkcję zwracającą moduł wektora,\n",
    "- umożliwia dodawanie (`+`) i odejmowanie (`-`) wektorów. Dodaj obsługę błędów (różna długość (liczba elementów) wektora),\n",
    "- możliwość wyświetlenia wektora jako listy za pomocą funkcji `print(v)` (metoda `__str__`),\n",
    "- uruchomienie komórki zawierającej jedynie nazwę zmiennej (typu `Vector`) spowoduje wyświetlenie nazwy typu `Vector`, adresu zmiennej w pamięci (funkcja `id`) oraz jej zawartości, np. `<Vector([1, 2, 3]) at 140185630442880>` (metoda `__repr__`)"
   ]
  },
  {
   "cell_type": "code",
   "execution_count": 1,
   "id": "ac82ae76",
   "metadata": {},
   "outputs": [
    {
     "name": "stdout",
     "output_type": "stream",
     "text": [
      "Funkcja __str__ :  [1, 2, 3, 4, 5]\n",
      "Funkcja modulu :  7.416198487095663\n",
      "Test sum:  [2, 4, 6, 8, 10]\n",
      "Test sub:  [0, 0, 0, 0, 0]\n"
     ]
    }
   ],
   "source": [
    "###################################################\n",
    "#Class\n",
    "import operator\n",
    "\n",
    "class Vector:\n",
    "    def __init__(self,in_list):\n",
    "        self.content = in_list\n",
    "    #Metoda str pozwalajaca na zwrocenie okreslonej wiadomosci uuzywajac zwyklego print na klasie\n",
    "    def __str__(self):\n",
    "        message = str(self.content)\n",
    "        return message\n",
    "        \n",
    "    #Funkcja modulu\n",
    "    def modulo(self):\n",
    "        m = [el**2 for el in self.content]\n",
    "        m = sum(m)**0.5\n",
    "        return m\n",
    "        \n",
    "    #Funkcja repr (zawartosc + adres pamieci)\n",
    "    def __repr__(self):\n",
    "        r = f\"{self.__class__.__name__}({self.content}) at {id(self)}\"\n",
    "        return r\n",
    "\n",
    "    def __add__(self, other):\n",
    "        \"\"\"\n",
    "        https://discuss.python.org/t/how-to-overload-add-method-in-a-self-made-class-to-sum-multiple-objects-of-the-class/40543/4\n",
    "        \"\"\"\n",
    "        if not isinstance(other, self.__class__):\n",
    "            raise TypeError(f\"Operands must be of type {self.__class__.__name__}\")\n",
    "        if len(self.content) == len(other.content):\n",
    "            e = []\n",
    "            for i in range(len(self.content)):\n",
    "                e.append(self.content[i]+ other.content[i])\n",
    "        #Else return error value\n",
    "        else:\n",
    "            raise ValueError(\"Vectors have different lenght, they need to have uniform shape\")\n",
    "\n",
    "        return e\n",
    "\n",
    "    def __sub__(self, other):\n",
    "        \"\"\"\n",
    "        https://discuss.python.org/t/how-to-overload-add-method-in-a-self-made-class-to-sum-multiple-objects-of-the-class/40543/4\n",
    "        \"\"\"\n",
    "        if not isinstance(other, self.__class__):\n",
    "            raise TypeError(f\"Operands must be of type {self.__class__.__name__}\")\n",
    "        if len(self.content) == len(other.content):\n",
    "            e = []\n",
    "            for i in range(len(self.content)):\n",
    "                e.append(self.content[i] - other.content[i])\n",
    "        #Else return error value\n",
    "        else:\n",
    "            raise ValueError(\"Vectors have different lenght, they need to have uniform shape\")\n",
    "    \n",
    "        return e\n",
    "            \n",
    "    def compare(self, other, op):\n",
    "        if not isinstance(other, self.__class__):\n",
    "            raise TypeError(f\"Operands must be of type {self.__class__.__name__}\")\n",
    "            \n",
    "        if len(self.content) != len(other.content):\n",
    "            raise ValueError(\"Vectors must have the same length\")\n",
    "            \n",
    "        return [op(a, b) for a, b in zip(self.content, other.content)]\n",
    "\n",
    "    #Mniejsze niz\n",
    "    def __lt__(self, other): return self.compare(other, operator.lt)\n",
    "    #Mniejsze/rowne niz\n",
    "    def __le__(self, other): return self.compare(other, operator.le)\n",
    "    #Wieksze niz\n",
    "    def __gt__(self, other): return self.compare(other, operator.gt)\n",
    "    #Wieksze/rowne niz\n",
    "    def __ge__(self, other): return self.compare(other, operator.ge)\n",
    "    #Rowne\n",
    "    def __eq__(self, other): return self.compare(other, operator.eq)\n",
    "    #Rozne\n",
    "    def __ne__(self, other): return self.compare(other, operator.ne)\n",
    "\n",
    "    #Hash w zaleznosci od zawartosci wektora\n",
    "    def __hash__(self):\n",
    "        return hash(tuple((self.content)))\n",
    "\n",
    "    #Dzielenie\n",
    "    def __truediv__(self, other):\n",
    "        if isinstance(other, int) or isinstance(other, float):\n",
    "            if other == 0:\n",
    "                raise ValueError(\"Number cannot be 0\")\n",
    "            e = [value / other for value in self.content]\n",
    "            return e\n",
    "        else:\n",
    "            raise TypeError(\"Operands must be scalar\")\n",
    "            \n",
    "    def __mul__(self,other):\n",
    "        if isinstance(other, int) or isinstance(other, float):\n",
    "            e = [value * other for value in self.content]\n",
    "            return e\n",
    "        else:\n",
    "            raise TypeError(\"Operands must be scalar\")\n",
    "\n",
    "    \n",
    "###################################################\n",
    "#Testing functionality\n",
    "\n",
    "\n",
    "init_list_1 = [1,2,3,4,5]\n",
    "init_list_2 = [1,2,3,4,5]\n",
    "Test_vector_1 = Vector(init_list_1)\n",
    "Test_vector_2 = Vector(init_list_2)\n",
    "print(\"Funkcja __str__ : \", Test_vector_1)\n",
    "print(\"Funkcja modulu : \", Test_vector_1.modulo())\n",
    "\n",
    "Test_vector_1\n",
    "#################\n",
    "# +-\n",
    "test_sum = Test_vector_1 + Test_vector_2\n",
    "print(\"Test sum: \", test_sum)\n",
    "test_sub = Test_vector_1 - Test_vector_2\n",
    "print(\"Test sub: \", test_sub)\n"
   ]
  },
  {
   "cell_type": "code",
   "execution_count": 94,
   "id": "930d41be-09e4-4683-9cd0-e893e9ee1f3a",
   "metadata": {},
   "outputs": [
    {
     "data": {
      "text/plain": [
       "Vector([1, 2, 3, 4, 5]) at 2227868576048"
      ]
     },
     "execution_count": 94,
     "metadata": {},
     "output_type": "execute_result"
    }
   ],
   "source": [
    "#Funckcja __repr__\n",
    "Test_vector_1"
   ]
  },
  {
   "cell_type": "markdown",
   "id": "87da7375",
   "metadata": {},
   "source": [
    "### Zadanie 2\n",
    "\n",
    "Do wcześniej zaimplementowanej klasy dopisz funkcje pozwalające na porównanie wektorów za pomocą operatorów: `==`, `>=`, `<=`, `>`, `<`, `!=`. Porównanie ma zostać wykonane na poziomie elementów wektorów (_element wise_), poniżej przykład:\n",
    "\n",
    "```ipython\n",
    " In [1]: a = Vector([1, 2, 3]) \\\n",
    "    ...: b = Vector([3, 2, 1]) \\\n",
    "    ...: a <= b\n",
    "Out [1]: <Vector([True, True, False]) at 140185575662832>\n",
    "```"
   ]
  },
  {
   "cell_type": "code",
   "execution_count": 2,
   "id": "3b99972a",
   "metadata": {},
   "outputs": [
    {
     "name": "stdout",
     "output_type": "stream",
     "text": [
      "Vec_1 [1, 2, 3, 4, 5]\n",
      "Vec_2 [1, 2, 3, 4, 5]\n",
      "Vec_1 > Vec_2\n",
      "[False, False, False, False, False]\n",
      "Vec_1 == Vec_2\n",
      "[True, True, True, True, True]\n",
      "Vec_1 < Vec_2\n",
      "[False, False, False, False, False]\n"
     ]
    }
   ],
   "source": [
    "print(\"Vec_1\", Test_vector_1)\n",
    "print(\"Vec_2\", Test_vector_2)\n",
    "\n",
    "print(\"Vec_1 > Vec_2\")\n",
    "print(Test_vector_1 > Test_vector_2)\n",
    "\n",
    "print(\"Vec_1 == Vec_2\")\n",
    "print(Test_vector_1 == Test_vector_2)\n",
    "\n",
    "print(\"Vec_1 < Vec_2\")\n",
    "print(Test_vector_1 < Test_vector_2)"
   ]
  },
  {
   "cell_type": "markdown",
   "id": "d8e9a446",
   "metadata": {},
   "source": [
    "### Zadanie 3\n",
    "\n",
    "Napisz funkcję umożliwiającą wyświetlenie wektora (`Vector`) zaczepionego w punkcie (0,0) na wykresie (zaimplementuj wyświetlanie za pomocą biblioteki `matplotlib`. \n",
    "\n",
    "> **UWAGA**: Funkcja powinna działać tylko dla wektora o dwóch wymiarach (dwuelementowa lista) - wykres 2D i wyświetlać komunikat jeżeli wymiar jest inny.\n",
    "\n",
    "> Podpowiedź: możesz wykorzystać funkcję [matplotlib.pyplot.arrow](https://matplotlib.org/3.5.1/api/_as_gen/matplotlib.pyplot.arrow.html)"
   ]
  },
  {
   "cell_type": "code",
   "execution_count": 3,
   "id": "c9f9de7b",
   "metadata": {},
   "outputs": [
    {
     "data": {
      "image/png": "[encoded data removed]",
      "text/plain": [
       "<Figure size 640x480 with 1 Axes>"
      ]
     },
     "metadata": {},
     "output_type": "display_data"
    }
   ],
   "source": [
    "# <UZUPEŁNIJ>\n",
    "import matplotlib.pyplot as plt\n",
    "def Plot_vector(vector):\n",
    "    if len(vector.content) == 2:\n",
    "        x,y = vector.content\n",
    "    else:\n",
    "        raise TypeError(\"Expected Vector size of 2\")\n",
    "    plt.figure()\n",
    "    plt.arrow(0,0,x,y,width = 0.05, color = \"green\")\n",
    "    plt.title(\"Vector\")\n",
    "\n",
    "Plot_vector(Vector([3,6]))"
   ]
  },
  {
   "cell_type": "markdown",
   "id": "ebc3c411",
   "metadata": {},
   "source": [
    "### Zadanie 4\n",
    "\n",
    "Dodaj możliwość zastosowania obiektu klasy `Vector` jako klucza w słowniku. Np.:\n",
    "\n",
    "```python\n",
    "d = {\n",
    "    Vector([1, 2, 3]): 'Wektor 1',\n",
    "    Vector([2, 2, 3]): 'Wektor 2'\n",
    "}\n",
    "d[Vector([2, 2, 3])]\n",
    "```"
   ]
  },
  {
   "cell_type": "code",
   "execution_count": 4,
   "id": "d1db2d39",
   "metadata": {},
   "outputs": [
    {
     "name": "stdout",
     "output_type": "stream",
     "text": [
      "{Vector([1, 2, 3]) at 1818922124496: 'Wektor_1', Vector([3, 2, 1]) at 1821047219280: 'Wektor_2'}\n"
     ]
    }
   ],
   "source": [
    "# <UZUPEŁNIJ>\n",
    "#Warunki obiektu aby mógłb byc kluczem: Musi być hashowalny\n",
    "#Jak policzyć hasha python  (funkcja hash)\n",
    "#implementacja metody hash\n",
    "\n",
    "Test_dict = {\n",
    "            Vector([1,2,3]): \"Wektor_1\",\n",
    "            Vector([3,2,1]): \"Wektor_2\",\n",
    "            }\n",
    "\n",
    "print(Test_dict)"
   ]
  },
  {
   "cell_type": "markdown",
   "id": "8aec816a",
   "metadata": {},
   "source": [
    "### Zadanie 5\n",
    "\n",
    "Dodaj funkcjonalność:\n",
    "- dzielenia przez skalar (np. `Vector([2, 4]) / 2`),\n",
    "- mnożenia przez skalar (np. `Vector([2, 4]) * 2`).\n",
    "\n",
    "> Podpowiedź: Pamiętaj o obsłudze błędów."
   ]
  },
  {
   "cell_type": "code",
   "execution_count": 5,
   "id": "2bb3d9bb",
   "metadata": {},
   "outputs": [
    {
     "name": "stdout",
     "output_type": "stream",
     "text": [
      "Test_vector_1 [1, 2, 3, 4, 5]\n",
      "Test_vector_1 / 2 [0.5, 1.0, 1.5, 2.0, 2.5]\n",
      "\n",
      "\n",
      "Test_vector_2 [1, 2, 3, 4, 5]\n",
      "Test_vector_2 * 2 [2, 4, 6, 8, 10]\n"
     ]
    }
   ],
   "source": [
    "# <UZUPEŁNIJ>\n",
    "\n",
    "print(\"Test_vector_1\", Test_vector_1)\n",
    "print(\"Test_vector_1 / 2\", Test_vector_1 / 2)\n",
    "print(\"\\n\")\n",
    "print(\"Test_vector_2\", Test_vector_1)\n",
    "print(\"Test_vector_2 * 2\", Test_vector_1*2)"
   ]
  },
  {
   "cell_type": "code",
   "execution_count": null,
   "id": "94e39983-6d4a-4322-aaec-034b718bbfdd",
   "metadata": {},
   "outputs": [],
   "source": []
  }
 ],
 "metadata": {
  "author": {
   "email": "robert.susik@p.lodz.pl",
   "name": "Robert Susik"
  },
  "kernelspec": {
   "display_name": "Python 3 (ipykernel)",
   "language": "python",
   "name": "python3"
  },
  "language_info": {
   "codemirror_mode": {
    "name": "ipython",
    "version": 3
   },
   "file_extension": ".py",
   "mimetype": "text/x-python",
   "name": "python",
   "nbconvert_exporter": "python",
   "pygments_lexer": "ipython3",
   "version": "3.12.9"
  },
  "toc": {
   "base_numbering": 1,
   "nav_menu": {},
   "number_sections": true,
   "sideBar": true,
   "skip_h1_title": false,
   "title_cell": "Table of Contents",
   "title_sidebar": "Contents",
   "toc_cell": false,
   "toc_position": {},
   "toc_section_display": true,
   "toc_window_display": false
  }
 },
 "nbformat": 4,
 "nbformat_minor": 5
}
