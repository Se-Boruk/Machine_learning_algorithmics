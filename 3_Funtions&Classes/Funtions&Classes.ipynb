{
 "cells": [
  {
   "cell_type": "markdown",
   "id": "59b5dc28",
   "metadata": {},
   "source": [
    "# Algorytmika i matematyka uczenia maszynowego \n",
    "## Laboratorium 3\n",
    "\n",
    "## Zadanie 1\n",
    "\n",
    "Z wykorzystaniem anotacji napisz definicję pustej funkcji, która przyjmuje argumenty: \n",
    "1. lista zawierająca elementy o dopuszczalnych typach: `str` oraz `int`\n",
    "2. krotka zawierająca dwa elementy: ciąg znaków (`str`) oraz listę liczb całkowitych (`int`).\n",
    "\n",
    "Funkcja zwraca słownik, w którym klucze są ciągami znaków, a wartości liczbami całkowitymi.\n"
   ]
  },
  {
   "cell_type": "code",
   "execution_count": 2,
   "id": "0c2d1720",
   "metadata": {},
   "outputs": [],
   "source": [
    "def create_dict_1(in_variable: list[str,int],in_variable_2: tuple[str,list[int]]) -> dict[str,int]:\n",
    "    dictionary = None\n",
    "    return dictionary\n",
    "    \n"
   ]
  },
  {
   "cell_type": "markdown",
   "id": "e20be70b",
   "metadata": {},
   "source": [
    "## Zadanie 2\n",
    "\n",
    "Do niżej zaimplentowanych funkcji napisz dodaj poprawne anotacje typów.\n",
    "\n",
    "\n",
    "> Wskazówka: Zastanów się, jakie typy danych mogą przyjmować argumenty i zwracać funkcje.\n",
    "\n",
    "```python\n",
    "def concatenate(a, b):\n",
    "    return a + b\n",
    "\n",
    "def divide(x, y):\n",
    "    return x / y\n",
    "\n",
    "def sqrt_data(data):\n",
    "    return {k: v * 2 for k, v in data.items()}\n",
    "```"
   ]
  },
  {
   "cell_type": "code",
   "execution_count": 5,
   "id": "c70898ac-8438-4556-a346-9ecb382389fc",
   "metadata": {},
   "outputs": [],
   "source": [
    "from typing import Union\n",
    "def concatenate(a: list | str, b: list | str) -> list | str:\n",
    "    return a + b\n",
    "\n",
    "def divide(x: float | int, y:float | int) -> float | int:\n",
    "    return x / y\n",
    "\n",
    "def sqrt_data(data: dict) -> dict:\n",
    "    return {k: v * 2 for k, v in data.items()}"
   ]
  },
  {
   "cell_type": "markdown",
   "id": "b7bf0400",
   "metadata": {},
   "source": [
    "## Zadanie 3\n",
    "\n",
    "A) Zdefiniuj **alias** `Person`, który będzie reprezentował słownik z kluczami:\n",
    "* `name` – łańcuch znaków,\n",
    "* `age` – liczba całkowita,\n",
    "* `hobbies` – lista łańcuchów znaków.\n",
    "\n",
    "B) Napisz funkcję `get_adults`, która przyjmie listę osób (listę obiektów typu `Person`) i zwróci tylko te, które mają co najmniej 18 lat.\n",
    "\n",
    "> Wskazówka 1: Aby zdefiniować alias, musisz utworzyć nową klasę dziedziczącą po `TypedDict` z anotacjami typów.\n",
    "\n",
    "> Wskazówka 2: `TypedDict` należy zaimportować z modułu `typing`, w następujący sposób: `from typing import TypedDict`."
   ]
  },
  {
   "cell_type": "code",
   "execution_count": 6,
   "id": "20317788",
   "metadata": {},
   "outputs": [
    {
     "name": "stdout",
     "output_type": "stream",
     "text": [
      "People:  [{'name': 'Adam', 'age': 15, 'hobbies': ['1', '2', '3']}, {'name': 'Marta', 'age': 21, 'hobbies': ['1', '2', '3']}, {'name': 'Burek', 'age': 3, 'hobbies': ['1', '2', '3']}]\n",
      "Filtered people:  [{'name': 'Marta', 'age': 21, 'hobbies': ['1', '2', '3']}]\n"
     ]
    }
   ],
   "source": [
    "from typing import TypedDict\n",
    "\n",
    "class Person(TypedDict):\n",
    "    name: str\n",
    "    age: int\n",
    "    hobbies: list[str]\n",
    "\n",
    "def get_adults(People_list:list[Person]) -> list[Person]:\n",
    "    binary = [Person[\"age\"] >=18 for Person in People_list]\n",
    "    \n",
    "    return [People_list[i] for i in range(len(People_list)) if binary[i]]\n",
    "    \n",
    "\n",
    "#Test\n",
    "p1 = {\"name\": \"Adam\",\n",
    "      \"age\" : 15,\n",
    "      \"hobbies\": [\"1\",\"2\",\"3\"]\n",
    "     }\n",
    "\n",
    "p2 = {\"name\": \"Marta\",\n",
    "      \"age\" : 21,\n",
    "      \"hobbies\": [\"1\",\"2\",\"3\"]\n",
    "     }\n",
    "\n",
    "p3 = {\"name\": \"Burek\",\n",
    "      \"age\" : 3,\n",
    "      \"hobbies\": [\"1\",\"2\",\"3\"]\n",
    "     }\n",
    "People = [p1,p2,p3]\n",
    "print(\"People: \", People)\n",
    "\n",
    "f_people = get_adults(People)\n",
    "print(\"Filtered people: \", f_people)\n"
   ]
  },
  {
   "cell_type": "markdown",
   "id": "69cbc6d1",
   "metadata": {},
   "source": [
    "## Zadanie 4\n",
    "\n",
    "Napisz generator `countdown`, który przyjmuje liczbę całkowitą `n` i zwraca kolejne liczby od `n` do `0`. Oznacz poprawnie zwracany typ generatora.\n",
    "\n",
    "> Wskazówka: Zwróć szczególną uwagę na zwracany typ."
   ]
  },
  {
   "cell_type": "code",
   "execution_count": 5,
   "id": "6064ac08",
   "metadata": {},
   "outputs": [
    {
     "name": "stdout",
     "output_type": "stream",
     "text": [
      "5\n",
      "4\n",
      "3\n",
      "2\n",
      "1\n",
      "0\n"
     ]
    }
   ],
   "source": [
    "#Define generator\n",
    "from typing import Generator\n",
    "def gen(n: int) -> Generator[int, None, None]:\n",
    "    c = n+1\n",
    "    while c>0:\n",
    "        c = c-1\n",
    "        yield c\n",
    "\n",
    "#Run generator\n",
    "n = 5\n",
    "g = gen(n)\n",
    "for i in range(n+1):\n",
    "    print(next(g))\n",
    "\n",
    "\n"
   ]
  },
  {
   "cell_type": "markdown",
   "id": "ca4e7af2",
   "metadata": {},
   "source": [
    "## Zadanie 5\n",
    "\n",
    "Odczytaj anotacje typów funkcji z Zad. 1 i wyświetl je w postaci struktury drzewiastej (zagnieżdżonej listy). Przykładowo:\n",
    "\n",
    "```\n",
    "p1\n",
    " list\n",
    "   union\n",
    "     int\n",
    "     str\n",
    "p2\n",
    " tuple\n",
    "   str\n",
    "   list\n",
    "     int\n",
    "return\n",
    " dict\n",
    "   str\n",
    "   int\n",
    "```\n",
    "\n",
    "\n",
    "> Wskazówka: wykorzystaj `get_type_hints` (lub `__annotations__`), `get_args` (lub `__args__`), `get_origin` (lub `__origin__`).\n",
    "\n",
    "> Wskazówka 2: uwaga! nie wszystkie typy posiadają `__args__` oraz `__origin__`, więc zaleca się korzystanie z `get_args` oraz `get_origin`.\n"
   ]
  },
  {
   "cell_type": "code",
   "execution_count": 4,
   "id": "81391828",
   "metadata": {},
   "outputs": [
    {
     "name": "stdout",
     "output_type": "stream",
     "text": [
      "in_variable\n",
      "    list\n",
      "       str\n",
      "       int\n",
      "in_variable_2\n",
      "    tuple\n",
      "       str\n",
      "       list\n",
      "return\n",
      "    dict\n",
      "       str\n",
      "       int\n"
     ]
    }
   ],
   "source": [
    "from typing import List, get_type_hints, get_origin, get_args\n",
    "#Dodac zeby nie bylo brzydkich printow\n",
    "\n",
    "annot = get_type_hints(create_dict_1)\n",
    "for key, value in annot.items():\n",
    "    print(key)\n",
    "    \n",
    "    print(\"   \",get_origin(annot[key]).__name__)\n",
    "    \n",
    "    args_tuple = get_args(annot[key])\n",
    "    for element in args_tuple:\n",
    "        print(\"   \"*2,element.__name__)\n",
    "\n"
   ]
  },
  {
   "cell_type": "code",
   "execution_count": null,
   "id": "09fd9400-6263-437b-8fd5-22b390d98eb9",
   "metadata": {},
   "outputs": [],
   "source": []
  }
 ],
 "metadata": {
  "author": {
   "email": "robert.susik@p.lodz.pl",
   "name": "Robert Susik"
  },
  "kernelspec": {
   "display_name": "Python 3 (ipykernel)",
   "language": "python",
   "name": "python3"
  },
  "language_info": {
   "codemirror_mode": {
    "name": "ipython",
    "version": 3
   },
   "file_extension": ".py",
   "mimetype": "text/x-python",
   "name": "python",
   "nbconvert_exporter": "python",
   "pygments_lexer": "ipython3",
   "version": "3.12.9"
  },
  "toc": {
   "base_numbering": 1,
   "nav_menu": {},
   "number_sections": true,
   "sideBar": true,
   "skip_h1_title": false,
   "title_cell": "Table of Contents",
   "title_sidebar": "Contents",
   "toc_cell": false,
   "toc_position": {},
   "toc_section_display": true,
   "toc_window_display": false
  }
 },
 "nbformat": 4,
 "nbformat_minor": 5
}
