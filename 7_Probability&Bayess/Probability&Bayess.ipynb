{
 "cells": [
  {
   "cell_type": "markdown",
   "id": "59b5dc28",
   "metadata": {},
   "source": [
    "# Algorytmika i matematyka uczenia maszynowego \n",
    "## Laboratorium 7\n"
   ]
  },
  {
   "cell_type": "markdown",
   "id": "ca4e7af2",
   "metadata": {},
   "source": [
    "### Zadanie 1\n",
    "\n",
    "W mieście liczącym 700 000 mieszkańców pojawiła się choroba, na którą choruje 1 osoba na 1000. Nie wiadomo, które osoby są chore, ale dostępny jest test diagnostyczny, którego zarówno czułość i swoistość wynosi 99% (tzn. prawdopodobieństwo uzyskania poprawnego wyniku – zarówno pozytywnego u osoby chorej, jak i negatywnego u osoby zdrowej – wynosi 99%).\n",
    "Jakie jest prawdopodobieństwo, że pacjent, który otrzymał pozytywny wynik testu jest rzeczywiście chory?\n",
    "\n",
    "#### A)\n",
    "\n",
    "Przeprowadź symulację komputerową opisanego scenariusza:\n",
    "\n",
    "- Utwórz listę mieszkańców o wielkości 700 tys. elementów, gdzie każdy element reprezentuje mieszkańca. Każdy mieszkaniec powinien posiadać dwie właściwości: *stan zdrowia* (zdrowy/chory) oraz *wynik diagnozy* (pozytywny/negatywny).\n",
    "- Losowo wybieramy 700 mieszkańców (bo 1 na 1000 osób choruje) i przypisz im *stan zdrowia* jako *chory*. Uwaga: należy dopilnować, aby nie wylosowała się dwukrotnie ta sama osoba.\n",
    "- Spośród osób chorych wylosuj 1% i przypisz im błędny wynik testu (*wynik diagnozy* = negatywny). Spośród osób zdrowych wylosuj 1% i przypisz im błędny wynik testu (*wynik diagnozy* = pozytywny).\n",
    "- Korzystając z utworzonej listy mieszkańców, oblicz prawdopodobieństwo, że osoba z pozytywnym wynikiem testu jest rzeczywiście chora, według wzoru: `liczba osób chorych z wynikiem pozytywnym` / `liczba wszystkich osob z wynikiem pozytywnym`."
   ]
  },
  {
   "cell_type": "code",
   "execution_count": 1,
   "id": "a56df9ac-0db0-4a30-9dd5-6521561066bf",
   "metadata": {},
   "outputs": [
    {
     "name": "stdout",
     "output_type": "stream",
     "text": [
      "Liczba unikalnych wylosowanych pacjentow:  700\n",
      "Prawdopodobienstwo / precyzja:  9.016393 %\n",
      "Czas wykonania: 3.965411 s\n"
     ]
    }
   ],
   "source": [
    "#1.1.1.1. A)\n",
    "import numpy as np\n",
    "import random\n",
    "import time\n",
    "\n",
    "start = time.time()\n",
    "#Poki co wszyscy są zdrowi i wszyscy sa sklasyfikowani jako zdrowi (0,0)\n",
    "samples = 700000\n",
    "data = 2\n",
    "columns = [\"Stan zdrowia\", \"Diagnoza\"]\n",
    "citizens = np.empty(shape = (samples,data))\n",
    "\n",
    "#Losowo wybieramy 700 mieszkańców (bo 1 na 1000 osób choruje) \n",
    "#i przypisz im stan zdrowia jako chory. Uwaga: należy dopilnować, aby nie wylosowała się dwukrotnie ta sama osoba.\n",
    "\n",
    "sick = random.sample(range(samples), 700)\n",
    "print(\"Liczba unikalnych wylosowanych pacjentow: \",len(np.unique(sick)))\n",
    "citizens[sick,0] = 1\n",
    "citizens[sick,1] = 1\n",
    "\n",
    "\n",
    "#Spośród osób chorych wylosuj 1% i przypisz im błędny wynik testu (wynik diagnozy = negatywny).\n",
    "#Spośród osób zdrowych wylosuj 1% i przypisz im błędny wynik testu (wynik diagnozy = pozytywny).\n",
    "sick_bad_diagnosis = random.sample(sick, 7)\n",
    "\n",
    "#Wszystkie osoby w mieście\n",
    "all_people = list(range(samples))\n",
    "#Zdrowi to ci, których nie ma na liście sick\n",
    "healthy = [i for i in all_people if i not in sick]\n",
    " \n",
    "healthy_bad_diagnosis = random.sample(healthy, 6993)\n",
    "\n",
    "#Przypisanie\n",
    "citizens[sick_bad_diagnosis,1] = 0\n",
    "citizens[healthy_bad_diagnosis,1] = 1\n",
    "\n",
    "\n",
    "mask_tp = (citizens[:, 0] == 1) & (citizens[:, 1] == 1)\n",
    "tp = len(citizens[mask_tp])\n",
    "\n",
    "positive = len(citizens[citizens[:,1] == 1])\n",
    "\n",
    "precision = tp/(positive)\n",
    "end = time.time()\n",
    "\n",
    "\n",
    "print(\"Prawdopodobienstwo / precyzja: \", round(precision*100,6), \"%\")\n",
    "print(f\"Czas wykonania: {end - start:.6f} s\")"
   ]
  },
  {
   "cell_type": "markdown",
   "id": "46aa035b",
   "metadata": {},
   "source": [
    "#### B)\n",
    "\n",
    "Napisz funkcję, która zwróci wynik obliczony ze wzoru Bayesa. Następnie zmierz i porównaj czas wykonania obliczeń w obu przypadkach: symulacji komputerowej oraz wzoru Bayesa.\n",
    "\n",
    "\n"
   ]
  },
  {
   "cell_type": "code",
   "execution_count": 2,
   "id": "1119d040",
   "metadata": {},
   "outputs": [
    {
     "name": "stdout",
     "output_type": "stream",
     "text": [
      "Prawdopodobienstwo / precyzja:  9.016393 %\n",
      "Czas wykonania: 0.0000000000 s\n"
     ]
    }
   ],
   "source": [
    "# Bayess\n",
    "start = time.time()\n",
    "recall = 0.99\n",
    "specificity = 0.99\n",
    "#Czestosc wystepowania\n",
    "preval = 1/1000\n",
    "\n",
    "probability = (recall * preval) / ((recall*preval) + (1-specificity) * (1-preval))\n",
    "end = time.time()\n",
    "print(\"Prawdopodobienstwo / precyzja: \", round(probability*100,6), \"%\")\n",
    "print(f\"Czas wykonania: {end - start:.10f} s\")"
   ]
  },
  {
   "cell_type": "markdown",
   "id": "2850f724",
   "metadata": {},
   "source": [
    "#### C)\n",
    "\n",
    "Wyświetl wykres, gdzie na osi X znajduje się czułość i swoistość testu (przyjmij zakres 50%-99.99%), a na osi Y znajduje się _prawdopodobieństwo, że osoba z pozytywnym wynikiem jest chora_ (użyj funkcji z podpunktu B)."
   ]
  },
  {
   "cell_type": "code",
   "execution_count": 3,
   "id": "7359c283",
   "metadata": {},
   "outputs": [
    {
     "data": {
      "image/png": "[encoded data removed]",
      "text/plain": [
       "<Figure size 640x480 with 1 Axes>"
      ]
     },
     "metadata": {},
     "output_type": "display_data"
    }
   ],
   "source": [
    "import matplotlib.pyplot as plt\n",
    "preval = 1/1000\n",
    "spec_range = np.arange(0.5, 0.9999, 0.01)\n",
    "recall_range = np.arange(0.5, 0.9999, 0.01)\n",
    "\n",
    "prob = (recall_range * preval) / ((recall_range*preval) + (1-spec_range) * (1-preval))\n",
    "\n",
    "\n",
    "plt.figure()\n",
    "plt.plot(recall_range, prob)\n",
    "plt.title(\"Precyzja w zaleznosci od czulosci/swoistosci\")\n",
    "plt.xlabel(\"Czułość = swoistość\")\n",
    "plt.ylabel(\"Precyzja\")\n",
    "plt.grid()\n"
   ]
  },
  {
   "cell_type": "markdown",
   "id": "2b0253f8",
   "metadata": {},
   "source": [
    "### Zadanie 2\n",
    "\n",
    "Sprawdź (symulacją) ile średnio razy należy losować 13 kart, aby trafia się \"ręka\" zawierająca $\\ge 8$ kart w jednym kolorze. Możemy to zrobić następująco: losujemy 13 kart z 52 (wiec \"ręki\" jak w brydzu) tak długo, aż w którymkolwiek kolorze dostaniemy $\\ge 8$ kart, zapisujemy liczbę przeprowadzonych losowań i podejmujemy kolejną próbę. Przeprowadź 1000 takich prób i oblicz średnią liczbę losowań. \n",
    "\n",
    "Dodatkowo wypisz jedną (np. ostatnią) wylosowaną \"rękę\"."
   ]
  },
  {
   "cell_type": "code",
   "execution_count": 4,
   "id": "622ec278",
   "metadata": {},
   "outputs": [
    {
     "name": "stdout",
     "output_type": "stream",
     "text": [
      "Srednia liczba losowan:  203\n",
      "Przykładowa ręka:  ['Wino', 'Żołądź', 'Serce', 'Wino', 'Wino', 'Żołądź', 'Wino', 'Wino', 'Żołądź', 'Wino', 'Wino', 'Wino', 'Dzwonek']\n"
     ]
    }
   ],
   "source": [
    "oznaczenia = {1: 'Serce', 2: 'Wino', 3: 'Dzwonek', 4: 'Żołądź'}\n",
    "#Tworzenie pseudo-talii (tylko kolory)\n",
    "karty = np.repeat([1, 2, 3, 4], 13)\n",
    "#Tasowanie\n",
    "np.random.shuffle(karty)\n",
    "\n",
    "karty = karty.tolist()\n",
    "\n",
    "#Losowanie\n",
    "c_avg = []\n",
    "for n in range(1000):\n",
    "    c = 0\n",
    "    succes = False\n",
    "    while not succes:\n",
    "        c+=1\n",
    "        reka = random.sample(karty, 13)\n",
    "        colors, number = np.unique(reka, return_counts = True)\n",
    "        for n in number:\n",
    "            if n>=8:\n",
    "                succes = True\n",
    "\n",
    "    ###\n",
    "    c_avg.append(c)\n",
    "\n",
    "\n",
    "print(\"Srednia liczba losowan: \", int(round(np.mean(c_avg),0)))\n",
    "print(\"Przykładowa ręka: \", [oznaczenia[kolor] for kolor in reka])\n",
    "    \n",
    "    \n",
    "    \n",
    "    "
   ]
  },
  {
   "cell_type": "code",
   "execution_count": null,
   "id": "2f35c557-4de9-4f9c-ba2b-59c601f33ac7",
   "metadata": {},
   "outputs": [],
   "source": []
  }
 ],
 "metadata": {
  "author": {
   "email": "robert.susik@p.lodz.pl",
   "name": "Robert Susik"
  },
  "kernelspec": {
   "display_name": "Python 3 (ipykernel)",
   "language": "python",
   "name": "python3"
  },
  "language_info": {
   "codemirror_mode": {
    "name": "ipython",
    "version": 3
   },
   "file_extension": ".py",
   "mimetype": "text/x-python",
   "name": "python",
   "nbconvert_exporter": "python",
   "pygments_lexer": "ipython3",
   "version": "3.12.9"
  },
  "toc": {
   "base_numbering": 1,
   "nav_menu": {},
   "number_sections": true,
   "sideBar": true,
   "skip_h1_title": false,
   "title_cell": "Table of Contents",
   "title_sidebar": "Contents",
   "toc_cell": false,
   "toc_position": {},
   "toc_section_display": true,
   "toc_window_display": false
  }
 },
 "nbformat": 4,
 "nbformat_minor": 5
}
